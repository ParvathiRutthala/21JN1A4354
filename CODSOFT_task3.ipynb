{
  "nbformat": 4,
  "nbformat_minor": 0,
  "metadata": {
    "colab": {
      "provenance": [],
      "authorship_tag": "ABX9TyPcfny8w7Dwem+u3Hu9A08r",
      "include_colab_link": true
    },
    "kernelspec": {
      "name": "python3",
      "display_name": "Python 3"
    },
    "language_info": {
      "name": "python"
    }
  },
  "cells": [
    {
      "cell_type": "markdown",
      "metadata": {
        "id": "view-in-github",
        "colab_type": "text"
      },
      "source": [
        "<a href=\"https://colab.research.google.com/github/21JN1A4354/21JN1A4354/blob/main/CODSOFT_task3.ipynb\" target=\"_parent\"><img src=\"https://colab.research.google.com/assets/colab-badge.svg\" alt=\"Open In Colab\"/></a>"
      ]
    },
    {
      "cell_type": "code",
      "execution_count": 1,
      "metadata": {
        "colab": {
          "base_uri": "https://localhost:8080/"
        },
        "id": "30W3Xb5L1xng",
        "outputId": "2a5022d5-ef76-4154-c04d-1a7ebf09f654"
      },
      "outputs": [
        {
          "output_type": "stream",
          "name": "stdout",
          "text": [
            "_____________\n",
            "| Welcome to this Password Generator |\n",
            "-------------------------------------\n",
            "\n",
            "how long do you want your password to be (minimum of 8 number)7\n",
            "Your password must have at least 8 characters\n",
            "\n",
            "Enter the length of password: 9\n",
            "\n",
            "Your password is: %-3k;S7OM\n",
            "______________\n",
            "| Thanks for using the Password Generator |\n",
            "------------------------------------------\n"
          ]
        }
      ],
      "source": [
        "import random\n",
        "import string\n",
        "\n",
        "\n",
        "def main():\n",
        "    print(\"_____________\")\n",
        "    print(\"| Welcome to this Password Generator |\")\n",
        "    print(\"-------------------------------------\\n\")\n",
        "    try:\n",
        "        length = int(\n",
        "            input(\"how long do you want your password to be (minimum of 8 number)\")\n",
        "        )\n",
        "    except:\n",
        "        print(\"Input numners only\")\n",
        "    password_length = 0\n",
        "    while password_length < length:\n",
        "        print(\"Your password must have at least 8 characters\")\n",
        "        password_length = getPasswordLength()\n",
        "\n",
        "    all_characters = getCharacters()\n",
        "    password = generatePassword(all_characters, password_length)\n",
        "    print(\"\\nYour password is: \" + password)\n",
        "    print(\"______________\")\n",
        "    print(\"| Thanks for using the Password Generator |\")\n",
        "    print(\"------------------------------------------\")\n",
        "\n",
        "\n",
        "def getPasswordLength():\n",
        "    # Set the password length with constraints for the password length\n",
        "    password_length = int(input(\"\\nEnter the length of password: \"))\n",
        "    return password_length\n",
        "\n",
        "\n",
        "def getCharacters():\n",
        "    # define the characters\n",
        "    lower = string.ascii_lowercase\n",
        "    upper = string.ascii_uppercase\n",
        "    num = string.digits\n",
        "    symbols = string.punctuation\n",
        "\n",
        "    all_characters = lower + upper + num + symbols\n",
        "    return all_characters\n",
        "\n",
        "\n",
        "def generatePassword(all_characters, password_length):\n",
        "    # generate a password string\n",
        "    password = \"\".join(random.sample(all_characters, password_length))\n",
        "    return password\n",
        "\n",
        "\n",
        "main()"
      ]
    }
  ]
}